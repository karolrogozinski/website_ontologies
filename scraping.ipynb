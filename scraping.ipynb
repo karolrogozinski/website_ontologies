{
 "cells": [
  {
   "cell_type": "code",
   "execution_count": 1,
   "metadata": {},
   "outputs": [],
   "source": [
    "import requests\n",
    "from bs4 import BeautifulSoup\n",
    "import pandas as pd"
   ]
  },
  {
   "cell_type": "code",
   "execution_count": 2,
   "metadata": {},
   "outputs": [],
   "source": [
    "# chosen tea-dedicated websites\n",
    "\n",
    "URLS = [\n",
    "    \"https://en.wikipedia.org/wiki/Tea\",\n",
    "    \"https://artfultea.com/blogs/101/types-of-tea-a-comprehensive-guide\",\n",
    "    \"https://www.webstaurantstore.com/guide/693/types-of-tea.html\",\n",
    "    \"https://teapeople.co.uk/pages/types-of-tea\",\n",
    "    \"https://brewbuch.com/different-types-of-tea/\",\n",
    "    \"https://steepeddreams.com/blog/different-types-of-tea\"\n",
    "]"
   ]
  },
  {
   "cell_type": "code",
   "execution_count": 3,
   "metadata": {},
   "outputs": [],
   "source": [
    "# getting site insides\n",
    "\n",
    "url = URLS[3]\n",
    "page = requests.get(url)\n",
    "soup = BeautifulSoup(page.content, \"html.parser\")\n",
    "data = BeautifulSoup(page.text, 'html') \n"
   ]
  },
  {
   "cell_type": "code",
   "execution_count": 4,
   "metadata": {},
   "outputs": [],
   "source": [
    "# finding all li tags\n",
    "\n",
    "data1 = data.find('ul') \n",
    "all_lis = []\n",
    "for li in data1.find_all(\"li\"):\n",
    "    element = li.text.strip()\n",
    "    mini_elems = element.split('\\n')\n",
    "    for mini_elem in mini_elems:\n",
    "        if len(mini_elem.strip()) > 0:\n",
    "            all_lis.append(mini_elem.strip())\n",
    "\n",
    "# all_lis"
   ]
  },
  {
   "cell_type": "code",
   "execution_count": 5,
   "metadata": {},
   "outputs": [],
   "source": [
    "# finding all h3 titles\n",
    "all_headings = []\n",
    "for h in ['h1', 'h2', 'h3']:\n",
    "    headings = soup.find_all(h)\n",
    "    headings_raw = [heading.text for heading in headings]\n",
    "    all_headings.append(headings_raw)\n",
    "\n",
    "# all_headings"
   ]
  },
  {
   "cell_type": "code",
   "execution_count": 8,
   "metadata": {},
   "outputs": [],
   "source": [
    "# just text inside the page\n",
    "\n",
    "text_content = soup.get_text()\n",
    "text_content = \" \".join(text_content.split())\n",
    "# print(text_content)"
   ]
  },
  {
   "cell_type": "code",
   "execution_count": 95,
   "metadata": {},
   "outputs": [
    {
     "name": "stdout",
     "output_type": "stream",
     "text": [
      "9\n",
      "\n"
     ]
    }
   ],
   "source": [
    "selector = 'div > h2 ~ div'\n",
    "\n",
    "# find elements that contain the data we want\n",
    "found = soup.select(selector)\n",
    "\n",
    "# Extract data from the found elements\n",
    "data = [x.text.split(';')[-1].strip() for x in found]\n",
    "print(len(data))\n",
    "for x in data:\n",
    "    print(x)\n",
    "    break"
   ]
  }
 ],
 "metadata": {
  "kernelspec": {
   "display_name": "emotion",
   "language": "python",
   "name": "python3"
  },
  "language_info": {
   "codemirror_mode": {
    "name": "ipython",
    "version": 3
   },
   "file_extension": ".py",
   "mimetype": "text/x-python",
   "name": "python",
   "nbconvert_exporter": "python",
   "pygments_lexer": "ipython3",
   "version": "3.10.13"
  }
 },
 "nbformat": 4,
 "nbformat_minor": 2
}
